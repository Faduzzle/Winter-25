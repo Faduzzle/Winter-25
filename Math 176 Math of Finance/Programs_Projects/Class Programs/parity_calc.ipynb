{
 "cells": [
  {
   "cell_type": "code",
   "execution_count": 1,
   "metadata": {},
   "outputs": [],
   "source": [
    "import numpy as np\n",
    "import pandas as pd\n",
    "import matplotlib.pyplot as plt"
   ]
  },
  {
   "cell_type": "code",
   "execution_count": 37,
   "metadata": {},
   "outputs": [],
   "source": [
    "def put_call_parity_arb(call,put,strike,stock,r,T):\n",
    "    E_pv = strike * np.exp(-r * T)   #present value of strike\n",
    "    call_port = call + E_pv\n",
    "    put_port = put + stock\n",
    "\n",
    "    print(\"Call Port is \"+str(round(call_port,2))+\" and Put Port is \"+str(round(put_port,2)))\n",
    "    print(\"Arb amount is around \" +str(round(np.abs(call_port - put_port),2)))"
   ]
  },
  {
   "cell_type": "code",
   "execution_count": 38,
   "metadata": {},
   "outputs": [
    {
     "name": "stdout",
     "output_type": "stream",
     "text": [
      "Call Port is 111.97 and Put Port is 245\n",
      "Arb amount is around 133.03\n"
     ]
    }
   ],
   "source": [
    "test = put_call_parity_arb(20,25,250,220,.1,10)"
   ]
  }
 ],
 "metadata": {
  "kernelspec": {
   "display_name": "base",
   "language": "python",
   "name": "python3"
  },
  "language_info": {
   "codemirror_mode": {
    "name": "ipython",
    "version": 3
   },
   "file_extension": ".py",
   "mimetype": "text/x-python",
   "name": "python",
   "nbconvert_exporter": "python",
   "pygments_lexer": "ipython3",
   "version": "3.12.7"
  }
 },
 "nbformat": 4,
 "nbformat_minor": 2
}
