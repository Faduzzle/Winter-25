{
 "cells": [
  {
   "cell_type": "code",
   "execution_count": 6,
   "metadata": {},
   "outputs": [],
   "source": [
    "import numpy as np\n",
    "import pandas as pd\n",
    "import math\n",
    "import matplotlib.pyplot as plt\n",
    "from scipy.integrate import quad\n",
    "from scipy.stats import norm\n",
    "plt.style.use('classic')\n",
    "plt.rcParams['figure.facecolor'] = 'white'"
   ]
  },
  {
   "cell_type": "code",
   "execution_count": 7,
   "metadata": {},
   "outputs": [
    {
     "name": "stdout",
     "output_type": "stream",
     "text": [
      "Expected Value: 0.0\n",
      "Variance: 0.6666666666666666\n"
     ]
    }
   ],
   "source": [
    "def discrete_expected_value_and_variance(probabilities, values):\n",
    "    \"\"\"\n",
    "    Calculates the expected value and variance of a discrete random variable.\n",
    "\n",
    "    :param probabilities: list or array of probabilities [p_1, p_2, ..., p_n]\n",
    "    :param values: list or array of corresponding values [x_1, x_2, ..., x_n]\n",
    "    :return: (E, Var) where E is expected value and Var is variance\n",
    "    \"\"\"\n",
    "    # Check that the lengths match\n",
    "    if len(probabilities) != len(values):\n",
    "        raise ValueError(\"The length of probabilities must match the length of values.\")\n",
    "\n",
    "    # Check that probabilities sum to 1 (within a small tolerance)\n",
    "    if abs(sum(probabilities) - 1.0) > 1e-8:\n",
    "        raise ValueError(\"The sum of the probabilities must be 1.\")\n",
    "\n",
    "    # Compute E(X)\n",
    "    expected_value = sum(p * x for p, x in zip(probabilities, values))\n",
    "\n",
    "    # Compute E(X^2)\n",
    "    expected_value_sq = sum(p * (x**2) for p, x in zip(probabilities, values))\n",
    "\n",
    "    # Variance = E(X^2) - [E(X)]^2\n",
    "    variance = expected_value_sq - (expected_value**2)\n",
    "\n",
    "    return expected_value, variance\n",
    "\n",
    "P=[1/3, 1/3, 1/3]\n",
    "x=[1, -1, 0]\n",
    "expected_value, variance=discrete_expected_value_and_variance(P, x)\n",
    "print(f\"Expected Value: {expected_value}\")\n",
    "print(f\"Variance: {variance}\")"
   ]
  },
  {
   "cell_type": "code",
   "execution_count": 8,
   "metadata": {},
   "outputs": [
    {
     "name": "stdout",
     "output_type": "stream",
     "text": [
      "Expected Value: 0.6666666666666667\n",
      "Variance: 0.05555555555555547\n"
     ]
    }
   ],
   "source": [
    "def continuous_expected_value_and_variance(pdf_func, a, b):\n",
    "    \"\"\"\n",
    "    Calculates the expected value and variance of a continuous random variable\n",
    "    defined on [a, b] using numerical integration.\n",
    "\n",
    "    :param pdf_func: A Python function that returns the PDF value at x, e.g., f(x).\n",
    "    :param a: Lower bound of the domain.\n",
    "    :param b: Upper bound of the domain.\n",
    "    :return: (E, Var) tuple where\n",
    "             E   = the expected value (float)\n",
    "             Var = the variance (float)\n",
    "    \"\"\"\n",
    "\n",
    "    # 1) Check if PDF integrates to 1 on [a, b]\n",
    "    total_prob, _ = quad(pdf_func, a, b)\n",
    "    if abs(total_prob - 1.0) > 1e-7:\n",
    "        raise ValueError(f\"PDF does not integrate to 1 over [{a}, {b}] (got {total_prob}).\")\n",
    "\n",
    "    # 2) Compute E(X) = ∫ x f(x) dx\n",
    "    def integrand_for_mean(x):\n",
    "        return x * pdf_func(x)\n",
    "\n",
    "    E, _ = quad(integrand_for_mean, a, b)\n",
    "\n",
    "    # 3) Compute E(X^2) = ∫ x^2 f(x) dx\n",
    "    def integrand_for_mean_sq(x):\n",
    "        return (x**2) * pdf_func(x)\n",
    "\n",
    "    E_sq, _ = quad(integrand_for_mean_sq, a, b)\n",
    "\n",
    "    # 4) Compute Variance = E(X^2) - [E(X)]^2\n",
    "    variance = E_sq - (E**2)\n",
    "\n",
    "    return E, variance\n",
    "\n",
    "def pdf(x):\n",
    "  return 2*x\n",
    "\n",
    "E, var=continuous_expected_value_and_variance(pdf, 0, 1)\n",
    "print(f\"Expected Value: {E}\")\n",
    "print(f\"Variance: {var}\")\n"
   ]
  },
  {
   "cell_type": "code",
   "execution_count": 9,
   "metadata": {},
   "outputs": [
    {
     "name": "stdout",
     "output_type": "stream",
     "text": [
      "Normal Distribution Example\n",
      "X ~ N(mu=2, sigma^2=4)\n",
      "Probability P(X <= 3) = 0.6914624612740131\n"
     ]
    }
   ],
   "source": [
    "def normal_prob(b, mu, sigma_sq):\n",
    "    \"\"\"\n",
    "    Calculate P(X <= b) where X ~ N(mu, sigma_sq).\n",
    "\n",
    "    :param b: Upper limit (scalar).\n",
    "    :param mu: Mean of the normal distribution (scalar).\n",
    "    :param sigma_sq: Variance of the normal distribution (scalar).\n",
    "    :return: Probability P(X <= b).\n",
    "    \"\"\"\n",
    "    if sigma_sq <= 0:\n",
    "        raise ValueError(\"Variance sigma_sq must be positive.\")\n",
    "\n",
    "    # Standard deviation\n",
    "    sigma = math.sqrt(sigma_sq)\n",
    "\n",
    "    # Standardize and use the standard normal CDF\n",
    "    z = (b - mu) / sigma\n",
    "    p = norm.cdf(z)\n",
    "    return p\n",
    "\n",
    "# Suppose X ~ N(mu=2, sigma^2=4), i.e., sigma=2\n",
    "# We want P(X <= b) for b = 3\n",
    "b_val = 3\n",
    "mu_val = 2\n",
    "sigma_sq_val = 4\n",
    "\n",
    "probability = normal_prob(b_val, mu_val, sigma_sq_val)\n",
    "print(\"Normal Distribution Example\")\n",
    "print(f\"X ~ N(mu={mu_val}, sigma^2={sigma_sq_val})\")\n",
    "print(f\"Probability P(X <= {b_val}) = {probability}\")"
   ]
  },
  {
   "cell_type": "code",
   "execution_count": 10,
   "metadata": {},
   "outputs": [
    {
     "name": "stdout",
     "output_type": "stream",
     "text": [
      "Sample mean:2.0\n",
      "Sample Variance:0.13333333333333333\n",
      "Sum Mean:60.0\n",
      "Sum Variance:120.0\n"
     ]
    }
   ],
   "source": [
    "def clt(mu, sigma_sq, n):\n",
    "    \"\"\"\n",
    "    Demonstrate the Central Limit Theorem for i.i.d. random variables X_i ~ (mu, sigma_sq).\n",
    "\n",
    "    - S_n = X_1 + ... + X_n\n",
    "      E[S_n] = n * mu\n",
    "      Var(S_n) = n * sigma_sq\n",
    "\n",
    "    - S_n / n\n",
    "      E[S_n / n] = mu\n",
    "      Var(S_n / n) = sigma_sq / n\n",
    "\n",
    "\n",
    "    :param mu:       Mean of each X_i.\n",
    "    :param sigma_sq: Variance of each X_i.\n",
    "    :param n:        Number of i.i.d. trials.\n",
    "    \"\"\"\n",
    "\n",
    "    if sigma_sq <= 0:\n",
    "        raise ValueError(\"Variance must be positive.\")\n",
    "    if n <= 0:\n",
    "        raise ValueError(\"Number of trials n must be positive.\")\n",
    "\n",
    "    # Mean and variance of S_n\n",
    "    mean_Sn = n * mu\n",
    "    var_Sn = n * sigma_sq\n",
    "\n",
    "    # Mean and variance of S_n / n\n",
    "    mean_SnOverN = mu\n",
    "    var_SnOverN  = sigma_sq / n\n",
    "\n",
    "    return mean_Sn, var_Sn, mean_SnOverN, var_SnOverN\n",
    "\n",
    "mu= 2.0       # mean of each X_i\n",
    "var = 4.0 # variance of each X_i\n",
    "n = 30         # number of i.i.d. trials\n",
    "\n",
    "\n",
    "mean_Sn, var_Sn, mean_SnOverN, var_SnOverN  = clt(mu, var, n)\n",
    "print(f\"Sample mean:{mean_SnOverN}\" )\n",
    "print(f\"Sample Variance:{var_SnOverN}\")\n",
    "print(f\"Sum Mean:{mean_Sn}\")\n",
    "print(f\"Sum Variance:{var_Sn}\")"
   ]
  }
 ],
 "metadata": {
  "kernelspec": {
   "display_name": "base",
   "language": "python",
   "name": "python3"
  },
  "language_info": {
   "codemirror_mode": {
    "name": "ipython",
    "version": 3
   },
   "file_extension": ".py",
   "mimetype": "text/x-python",
   "name": "python",
   "nbconvert_exporter": "python",
   "pygments_lexer": "ipython3",
   "version": "3.12.7"
  }
 },
 "nbformat": 4,
 "nbformat_minor": 2
}
