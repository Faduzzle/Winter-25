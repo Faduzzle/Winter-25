{
 "cells": [
  {
   "cell_type": "code",
   "execution_count": 2,
   "metadata": {},
   "outputs": [],
   "source": [
    "import numpy as np\n",
    "import pandas as pd\n",
    "import matplotlib.pyplot as plt\n",
    "plt.style.use('classic')\n",
    "plt.rcParams['figure.facecolor'] = 'white'"
   ]
  },
  {
   "cell_type": "markdown",
   "metadata": {},
   "source": [
    "Creating $n$ horses"
   ]
  },
  {
   "cell_type": "code",
   "execution_count": 4,
   "metadata": {},
   "outputs": [],
   "source": [
    "# Horses and the $ bet on them\n",
    "parameters = pd.Series(dtype=float)\n",
    "parameters['A'] = 500\n",
    "parameters['B'] = 400\n",
    "parameters['C'] = 500\n",
    "parameters['D'] = 300\n",
    "parameters['E'] = 200\n",
    "parameters['F'] = 200"
   ]
  },
  {
   "cell_type": "markdown",
   "metadata": {},
   "source": [
    "Finding profit for book holder"
   ]
  },
  {
   "cell_type": "code",
   "execution_count": 5,
   "metadata": {},
   "outputs": [
    {
     "name": "stdout",
     "output_type": "stream",
     "text": [
      "105.0\n"
     ]
    }
   ],
   "source": [
    "cents_on_the_dollar = 5\n",
    "total_dollars_bet = parameters.sum()\n",
    "\n",
    "desired_profit = (cents_on_the_dollar/100) * total_dollars_bet\n",
    "print(desired_profit)"
   ]
  },
  {
   "cell_type": "markdown",
   "metadata": {},
   "source": [
    "Odds for each horse"
   ]
  },
  {
   "cell_type": "code",
   "execution_count": 89,
   "metadata": {},
   "outputs": [
    {
     "name": "stdout",
     "output_type": "stream",
     "text": [
      "odds for horse \n",
      "A is 14.95/5.0:1\n",
      "B is 15.95/4.0:1\n",
      "C is 14.95/5.0:1\n",
      "D is 16.95/3.0:1\n",
      "E is 17.95/2.0:1\n",
      "F is 17.95/2.0:1\n"
     ]
    }
   ],
   "source": [
    "# odds for each horse\n",
    "\n",
    "print('odds for horse ')\n",
    "\n",
    "for index,value in parameters.items():\n",
    "    odds = (total_dollars_bet - value - desired_profit)/100\n",
    "    print(str(index) +' is ' +str(odds) +'/'+str(value/100)+':1')"
   ]
  },
  {
   "cell_type": "markdown",
   "metadata": {},
   "source": [
    "Implied Probability for each horse"
   ]
  },
  {
   "cell_type": "code",
   "execution_count": 88,
   "metadata": {},
   "outputs": [
    {
     "name": "stdout",
     "output_type": "stream",
     "text": [
      "Implied probability based on money wagered for horse \n",
      "A is 23.81%\n",
      "B is 19.048%\n",
      "C is 23.81%\n",
      "D is 14.286%\n",
      "E is 9.524%\n",
      "F is 9.524%\n"
     ]
    }
   ],
   "source": [
    "# implied probability of each horse based on money wagered\n",
    "\n",
    "print('Implied probability based on money wagered for horse ')\n",
    "\n",
    "for index,value in parameters.items():\n",
    "    mimp_p = value/total_dollars_bet\n",
    "    print(str(index) +' is ' +str(round(mimp_p*100,3)) +'%' )"
   ]
  },
  {
   "cell_type": "markdown",
   "metadata": {},
   "source": [
    "Actual Implied probability"
   ]
  },
  {
   "cell_type": "code",
   "execution_count": 91,
   "metadata": {},
   "outputs": [
    {
     "name": "stdout",
     "output_type": "stream",
     "text": [
      "The actual implied probability for horse\n",
      "A is 25.063%\n",
      "B is 20.05%\n",
      "C is 25.063%\n",
      "D is 15.038%\n",
      "E is 10.025%\n",
      "F is 10.025%\n"
     ]
    }
   ],
   "source": [
    "# Implied probability\n",
    "\n",
    "print(\"The actual implied probability for horse\")\n",
    "\n",
    "for index,value in parameters.items():\n",
    "    odd = (total_dollars_bet - value - desired_profit)/value\n",
    "    aimp_p = 1/(odd+1)\n",
    "    print(str(index) +' is ' +str(round(aimp_p*100,3)) +'%' )\n"
   ]
  }
 ],
 "metadata": {
  "kernelspec": {
   "display_name": "base",
   "language": "python",
   "name": "python3"
  },
  "language_info": {
   "codemirror_mode": {
    "name": "ipython",
    "version": 3
   },
   "file_extension": ".py",
   "mimetype": "text/x-python",
   "name": "python",
   "nbconvert_exporter": "python",
   "pygments_lexer": "ipython3",
   "version": "3.12.7"
  }
 },
 "nbformat": 4,
 "nbformat_minor": 2
}
