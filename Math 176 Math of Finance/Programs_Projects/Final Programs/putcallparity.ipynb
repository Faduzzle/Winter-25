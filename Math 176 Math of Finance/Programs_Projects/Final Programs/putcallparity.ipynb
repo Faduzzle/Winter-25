{
 "cells": [
  {
   "cell_type": "code",
   "execution_count": 1,
   "metadata": {},
   "outputs": [],
   "source": [
    "import numpy as np\n",
    "import pandas as pd\n",
    "import matplotlib.pyplot as plt\n",
    "plt.style.use('classic')\n",
    "plt.rcParams['figure.facecolor'] = 'white'"
   ]
  },
  {
   "cell_type": "code",
   "execution_count": 35,
   "metadata": {},
   "outputs": [],
   "source": [
    "# Set up parameters for PC parity problems\n",
    "parameters = pd.Series(dtype=float)\n",
    "parameters['priceS'] = 100\n",
    "parameters['put'] = 19.91\n",
    "parameters['call'] = 11\n",
    "parameters['rate'] = .04\n",
    "parameters['strike'] = 110\n",
    "parameters['time'] = 1/4"
   ]
  },
  {
   "cell_type": "markdown",
   "metadata": {},
   "source": [
    "Solving for the value of an option given parameters and price of other option"
   ]
  },
  {
   "cell_type": "code",
   "execution_count": 37,
   "metadata": {},
   "outputs": [
    {
     "name": "stdout",
     "output_type": "stream",
     "text": [
      "Price of the CALL option is $11.0\n",
      "Price of the PUT option is $19.91\n"
     ]
    }
   ],
   "source": [
    "p = parameters\n",
    "\n",
    "# Call price\n",
    "C_price = p.priceS + p.put - p.strike * np.exp(-p.rate*p.time)\n",
    "print('Price of the CALL option is $' +str(round(C_price,2)))\n",
    "\n",
    "# Put price\n",
    "P_price = p.call + p.strike * np.exp(-p.rate * p.time) - p.priceS\n",
    "print('Price of the PUT option is $' +str(round(P_price,2)))"
   ]
  },
  {
   "cell_type": "markdown",
   "metadata": {},
   "source": [
    "Given information from about parameters, develop strategy to profit"
   ]
  },
  {
   "cell_type": "code",
   "execution_count": 16,
   "metadata": {},
   "outputs": [
    {
     "name": "stdout",
     "output_type": "stream",
     "text": [
      "Arbitrage opportunity of $7.93 exists.\n",
      "Strategy: RHS > LHS by $7.93: Buy the Call, Sell the Put, Short the Stock, Invest the Present Value of Strike.\n"
     ]
    }
   ],
   "source": [
    "def put_call_parity_arb(parameters):\n",
    "    p = parameters\n",
    "    \n",
    "    # Present value of strike\n",
    "    E_discounted = p.strike * np.exp(-p.rate * p.time)\n",
    "\n",
    "    # Left-hand side (LHS) and right-hand side (RHS)\n",
    "    LHS = p.call + E_discounted\n",
    "    RHS = p.put + p.priceS\n",
    "\n",
    "    if LHS > RHS:\n",
    "        # LHS is overpriced => Sell Call, Buy Put, Borrow strike discount, Buy Stock\n",
    "        arbitrage_amount = LHS - RHS\n",
    "        strategy = (\n",
    "            f\"LHS > RHS by ${arbitrage_amount:.2f}: \"\n",
    "            \"Sell the Call, Buy the Put, Borrow the Present Value of Strike, Buy the Stock.\"\n",
    "        )\n",
    "    elif LHS < RHS:\n",
    "        # RHS is overpriced => Buy Call, Sell Put, Short Stock, Invest strike discount\n",
    "        arbitrage_amount = RHS - LHS\n",
    "        strategy = (\n",
    "            f\"RHS > LHS by ${arbitrage_amount:.2f}: \"\n",
    "            \"Buy the Call, Sell the Put, Short the Stock, Invest the Present Value of Strike.\"\n",
    "        )\n",
    "    else:\n",
    "        # No arbitrage\n",
    "        arbitrage_amount = 0\n",
    "        strategy = \"No arbitrage. LHS == RHS.\"\n",
    "\n",
    "    return arbitrage_amount, strategy\n",
    "\n",
    "# Calculate the arbitrage amount and strategy\n",
    "arbitrage_amount, strategy = put_call_parity_arb(parameters)\n",
    "\n",
    "print(f\"Arbitrage opportunity of ${arbitrage_amount:.2f} exists.\")\n",
    "print(\"Strategy:\", strategy)\n"
   ]
  },
  {
   "cell_type": "markdown",
   "metadata": {},
   "source": [
    "Printing values of different types of portfolios"
   ]
  },
  {
   "cell_type": "code",
   "execution_count": 30,
   "metadata": {},
   "outputs": [
    {
     "name": "stdout",
     "output_type": "stream",
     "text": [
      "S + P = $74.0\n",
      "C + Eert = $66.07376547004284\n",
      "\n",
      "\n",
      "P - C = $-5.0\n",
      "Eert - S = $-12.926234529957156\n"
     ]
    }
   ],
   "source": [
    "p = parameters\n",
    "\n",
    "# S + P\n",
    "print(\"S + P = $\" +str(p.put + p.priceS))\n",
    "\n",
    "# C + Eert\n",
    "print(\"C + Eert = $\"+str(p.call + p.strike * np.exp(-p.rate * p.time)))\n",
    "\n",
    "print('\\n')\n",
    "\n",
    "# P - C\n",
    "print('P - C = $' +str(p.put - p.call))\n",
    "\n",
    "# Eert - S\n",
    "print('Eert - S = $' +str(p.strike * np.exp(-p.rate * p.time) - p.priceS))\n",
    "\n",
    "print('\\n')\n",
    "\n"
   ]
  }
 ],
 "metadata": {
  "kernelspec": {
   "display_name": "base",
   "language": "python",
   "name": "python3"
  },
  "language_info": {
   "codemirror_mode": {
    "name": "ipython",
    "version": 3
   },
   "file_extension": ".py",
   "mimetype": "text/x-python",
   "name": "python",
   "nbconvert_exporter": "python",
   "pygments_lexer": "ipython3",
   "version": "3.12.7"
  }
 },
 "nbformat": 4,
 "nbformat_minor": 2
}
